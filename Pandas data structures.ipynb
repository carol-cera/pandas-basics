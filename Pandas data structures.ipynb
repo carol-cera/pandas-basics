{
 "cells": [
  {
   "cell_type": "code",
   "execution_count": null,
   "metadata": {},
   "outputs": [],
   "source": [
    "#key data structure are Series(one dimensional data) & dataframe(tabular data)\n",
    "\"\"\" pandas operations\n",
    "1. slicing\n",
    "2. merging&joining\n",
    "3. Concatenate\n",
    "4. changing the index\n",
    "5. changing column headers\n",
    "6. data murging \"\"\""
   ]
  },
  {
   "cell_type": "code",
   "execution_count": 3,
   "metadata": {},
   "outputs": [
    {
     "name": "stdout",
     "output_type": "stream",
     "text": [
      "0    1\n",
      "1    4\n",
      "2    6\n",
      "3    8\n",
      "4    4\n",
      "dtype: int64\n",
      "[1, 4, 6, 8, 4]\n"
     ]
    }
   ],
   "source": [
    "#Series(1d data structure)\n",
    "\"\"\"has various data structures such as integers, \n",
    "floats,strings,python objects(list,dict...)\"\"\"\n",
    "\"\"\"created using 3 forms of inputs\n",
    "1.Scalar values/constants\n",
    "2. Dict\n",
    "3. NDarray\"\"\"\n",
    "\"\"\"Index used with series, for dataframe columns\n",
    "and index(for rows)are used\"\"\"\n",
    "import pandas as pd\n",
    "import numpy as np\n",
    "data=[1,4,6,8,4]#passing scala values\n",
    "series=pd.Series(data)#panda Sries function pass data to view as a series\n",
    "print(series)\n",
    "print(data)"
   ]
  },
  {
   "cell_type": "code",
   "execution_count": 36,
   "metadata": {},
   "outputs": [
    {
     "data": {
      "text/plain": [
       "1    8\n",
       "2    8\n",
       "3    8\n",
       "9    8\n",
       "4    8\n",
       "dtype: int64"
      ]
     },
     "execution_count": 36,
     "metadata": {},
     "output_type": "execute_result"
    }
   ],
   "source": [
    "series=pd.Series(8,index=[1,2,3,9,4])#passing a scalar value in series\n",
    "series"
   ]
  },
  {
   "cell_type": "code",
   "execution_count": 9,
   "metadata": {},
   "outputs": [
    {
     "name": "stdout",
     "output_type": "stream",
     "text": [
      "50    1\n",
      "60    4\n",
      "70    6\n",
      "80    8\n",
      "90    4\n",
      "dtype: int64\n",
      "50    1\n",
      "60    4\n",
      "70    6\n",
      "80    8\n",
      "90    4\n",
      "dtype: int64\n"
     ]
    }
   ],
   "source": [
    "data=[1,4,6,8,4]\n",
    "s=pd.Series(data,index=[50,60,70,80,90])\n",
    "print(s)\n",
    "#data=[1,4,6,8,4]\n",
    "s=pd.Series([1,4,6,8,4],index=[50,60,70,80,90])\n",
    "print(s)\n"
   ]
  },
  {
   "cell_type": "code",
   "execution_count": 6,
   "metadata": {},
   "outputs": [
    {
     "name": "stdout",
     "output_type": "stream",
     "text": [
      "city      [Nairobi, New Delhi, London]\n",
      "county         [Kenya, India, England]\n",
      "dtype: object\n"
     ]
    }
   ],
   "source": [
    "data={'city':['Nairobi','New Delhi','London'],\n",
    "      'county':['Kenya','India','England']\n",
    "     }#Passing dictionary object to series function of pandas\n",
    "series=pd.Series(data)\n",
    "print(series)"
   ]
  },
  {
   "cell_type": "code",
   "execution_count": 7,
   "metadata": {},
   "outputs": [
    {
     "name": "stdout",
     "output_type": "stream",
     "text": [
      "0          [2, 5]\n",
      "1    [1, 4, 7, 9]\n",
      "dtype: object\n"
     ]
    }
   ],
   "source": [
    "data=[[2,5],[1,4,7,9]]#Creating a 2d array in python\n",
    "series=pd.Series(data)\n",
    "print(series)"
   ]
  },
  {
   "cell_type": "code",
   "execution_count": 33,
   "metadata": {},
   "outputs": [
    {
     "data": {
      "text/plain": [
       "a    1.0\n",
       "e    6.0\n",
       "c    NaN\n",
       "d    7.0\n",
       "b    5.0\n",
       "dtype: float64"
      ]
     },
     "execution_count": 33,
     "metadata": {},
     "output_type": "execute_result"
    }
   ],
   "source": [
    "data={'a':1,'b':5,'e':6,'d':7}\n",
    "\n",
    "series=pd.Series(data,index=['a','e','c','d','b'])\n",
    "series"
   ]
  },
  {
   "cell_type": "code",
   "execution_count": 43,
   "metadata": {},
   "outputs": [
    {
     "name": "stdout",
     "output_type": "stream",
     "text": [
      "1.0\n",
      "6.0\n",
      "d    7.0\n",
      "b    5.0\n",
      "dtype: float64\n"
     ]
    }
   ],
   "source": [
    "#retriving data froma series\n",
    "series=pd.Series(data,index=['a','e','c','d','b'])\n",
    "print(series[0])\n",
    "print(series['e'])"
   ]
  },
  {
   "cell_type": "code",
   "execution_count": 46,
   "metadata": {},
   "outputs": [
    {
     "name": "stdout",
     "output_type": "stream",
     "text": [
      "c    NaN\n",
      "d    7.0\n",
      "b    5.0\n",
      "dtype: float64\n",
      "a    1.0\n",
      "e    6.0\n",
      "dtype: float64\n"
     ]
    }
   ],
   "source": [
    "series=pd.Series(data,index=['a','e','c','d','b'])\n",
    "print(series[2:])#print all excluding the 1st 2\n",
    "print(series[:2])#print the 1st 2"
   ]
  },
  {
   "cell_type": "code",
   "execution_count": 48,
   "metadata": {},
   "outputs": [
    {
     "name": "stdout",
     "output_type": "stream",
     "text": [
      "c    NaN\n",
      "d    7.0\n",
      "b    5.0\n",
      "dtype: float64\n",
      "e    6.0\n",
      "c    NaN\n",
      "d    7.0\n",
      "dtype: float64\n"
     ]
    }
   ],
   "source": [
    "print(series[-3:])#printing the last 3\n",
    "print(series[['e','c','d']])#accessing multiple elements"
   ]
  },
  {
   "cell_type": "code",
   "execution_count": 55,
   "metadata": {},
   "outputs": [
    {
     "name": "stdout",
     "output_type": "stream",
     "text": [
      "    0\n",
      "0  10\n",
      "1  11\n",
      "2  12\n",
      "3  13\n",
      "\r\n",
      "   0  1\n",
      "0  2  3\n",
      "1  3  4\n",
      "\r\n",
      "       0   1\n",
      "0    mal   1\n",
      "1  cerah  20\n",
      "2   tibe  30\n",
      "\r\n",
      "    Name   Age\n",
      "0    mal   1.0\n",
      "1  cerah  20.0\n",
      "2   tibe  30.0\n"
     ]
    }
   ],
   "source": [
    "#dataframes(multidmensional array with rows and columns)\n",
    "\"\"\"created from the following inputs\n",
    "1.list and a list of lists\n",
    "2.dict\n",
    "3.Series\n",
    "4. numpy ndarray\n",
    "5. another Dataframe\"\"\"\n",
    "\n",
    "import pandas as pd\n",
    "data1=[10,11,12,13]#dataframe from a single list\n",
    "data2=[[2,3],[3,4]]#dataframe from a list of lists\n",
    "data3=[['mal',1],['cerah',20],['tibe',30]]\n",
    "df1=pd.DataFrame(data1)\n",
    "df2=pd.DataFrame(data2)\n",
    "df3=pd.DataFrame(data3)\n",
    "df4=pd.DataFrame(data3,columns=['Name','Age'],dtype=float)\n",
    "print(df1)\n",
    "print('\\r')\n",
    "print(df2)\n",
    "print('\\r')\n",
    "print(df3)\n",
    "print('\\r')\n",
    "print(df4)"
   ]
  },
  {
   "cell_type": "code",
   "execution_count": 62,
   "metadata": {},
   "outputs": [
    {
     "name": "stdout",
     "output_type": "stream",
     "text": [
      "   apples  mangos\n",
      "0       1      12\n",
      "1       2      13\n",
      "2       3      15\n",
      "\r\n",
      "        city   county\n",
      "0    Nairobi    Kenya\n",
      "1  New Delhi    India\n",
      "2     London  England\n",
      "\r\n",
      "    Name  Age\n",
      "0    mal    1\n",
      "1  cerah   20\n",
      "2   tibe   30\n",
      "3    Tom   28\n",
      "4   Jack   34\n",
      "5  Steve   29\n",
      "6  Ricky   42\n",
      "\r\n",
      "       Name  Age\n",
      "row0    mal    1\n",
      "row1  cerah   20\n",
      "row2   tibe   30\n",
      "row3    Tom   28\n",
      "row4   Jack   34\n",
      "row5  Steve   29\n",
      "row6  Ricky   42\n"
     ]
    }
   ],
   "source": [
    "#creating dataframe form a dict of ndarray/list\n",
    "data={'apples':[1,2,3],\n",
    "      'mangos':[12,13,15]}\n",
    "df=pd.DataFrame(data)\n",
    "print(df)\n",
    "print('\\r')\n",
    "data1={'city':['Nairobi','New Delhi','London'],\n",
    "      'county':['Kenya','India','England']\n",
    "     }#Passing dictionary object to Dataframe function of pandas\n",
    "df=pd.DataFrame(data1)\n",
    "print(df)\n",
    "print('\\r')\n",
    "data2={'Name':['mal','cerah','tibe','Tom', 'Jack', 'Steve', 'Ricky'],\n",
    "      'Age':[1,20,30,28,34,29,42]}\n",
    "df=pd.DataFrame(data2)\n",
    "print(df)\n",
    "print('\\r')\n",
    "data2={'Name':['mal','cerah','tibe','Tom', 'Jack', 'Steve', 'Ricky'],\n",
    "      'Age':[1,20,30,28,34,29,42]}\n",
    "df=pd.DataFrame(data2,index=['row0','row1','row2',\n",
    "                             'row3','row4','row5','row6'])\n",
    "#in dataframe, index paramter assigns a name to each row\n",
    "print(df)"
   ]
  },
  {
   "cell_type": "code",
   "execution_count": 71,
   "metadata": {},
   "outputs": [
    {
     "name": "stdout",
     "output_type": "stream",
     "text": [
      "   a  b    c\n",
      "0  1  2  NaN\n",
      "1  4  5  6.0\n",
      "\r\n",
      "      a  b    c\n",
      "row0  1  2  NaN\n",
      "row2  4  5  6.0\n",
      "\r\n",
      "      a  b  num3\n",
      "row0  1  2   NaN\n",
      "row2  4  5   NaN\n"
     ]
    }
   ],
   "source": [
    "#creating a dataframe from a list of dicts\n",
    "data=[{'a':1,'b':2},{'a':4,'b':5,'c':6}]\n",
    "df=pd.DataFrame(data)\n",
    "print(df)\n",
    "print('\\r')\n",
    "data1=[{'a':1,'b':2},{'a':4,'b':5,'c':6}]\n",
    "df=pd.DataFrame(data1,index=['row0','row2'])#passing into a dataframe with row indices\n",
    "print(df)\n",
    "print('\\r')\n",
    "data2=[{'a':1,'b':2},{'a':4,'b':5,'c':6}]\n",
    "df=pd.DataFrame(data2,index=['row0','row2'],\n",
    "                columns=['a','b','num3'])#passing into a dataframe with row indices and column indices\n",
    "print(df)"
   ]
  },
  {
   "cell_type": "code",
   "execution_count": 76,
   "metadata": {},
   "outputs": [
    {
     "name": "stdout",
     "output_type": "stream",
     "text": [
      "   one  two\n",
      "a  1.0    4\n",
      "b  2.0    5\n",
      "c  3.0    6\n",
      "d  NaN    7\n"
     ]
    }
   ],
   "source": [
    "#creating a dataframe from a dict of Series\n",
    "data={'one':pd.Series([1,2,3],index=['a','b','c'],dtype=float),\n",
    "     'two':pd.Series([4,5,6,7],index=['a','b','c','d'])}\n",
    "df=pd.DataFrame(data)\n",
    "print(df)"
   ]
  },
  {
   "cell_type": "code",
   "execution_count": 34,
   "metadata": {},
   "outputs": [
    {
     "data": {
      "text/plain": [
       "[0, 1, 2, 3, 4]"
      ]
     },
     "execution_count": 34,
     "metadata": {},
     "output_type": "execute_result"
    }
   ],
   "source": [
    "nos=list(range(5))\n",
    "nos"
   ]
  },
  {
   "cell_type": "code",
   "execution_count": 28,
   "metadata": {},
   "outputs": [
    {
     "ename": "TypeError",
     "evalue": "object of type 'int' has no len()",
     "output_type": "error",
     "traceback": [
      "\u001b[1;31m---------------------------------------------------------------------------\u001b[0m",
      "\u001b[1;31mTypeError\u001b[0m                                 Traceback (most recent call last)",
      "\u001b[1;32m<ipython-input-28-c5f3c769bc11>\u001b[0m in \u001b[0;36m<module>\u001b[1;34m\u001b[0m\n\u001b[0;32m      1\u001b[0m \u001b[1;32mimport\u001b[0m \u001b[0mpandas\u001b[0m \u001b[1;32mas\u001b[0m \u001b[0mpd\u001b[0m\u001b[1;33m\u001b[0m\u001b[1;33m\u001b[0m\u001b[0m\n\u001b[0;32m      2\u001b[0m \u001b[1;32mimport\u001b[0m \u001b[0mnumpy\u001b[0m \u001b[1;32mas\u001b[0m \u001b[0mnp\u001b[0m\u001b[1;33m\u001b[0m\u001b[1;33m\u001b[0m\u001b[0m\n\u001b[1;32m----> 3\u001b[1;33m \u001b[0mnos1\u001b[0m\u001b[1;33m=\u001b[0m\u001b[0mlist\u001b[0m\u001b[1;33m(\u001b[0m\u001b[0mrange\u001b[0m\u001b[1;33m(\u001b[0m\u001b[0mlen\u001b[0m\u001b[1;33m(\u001b[0m\u001b[1;36m6\u001b[0m\u001b[1;33m)\u001b[0m\u001b[1;33m)\u001b[0m\u001b[1;33m)\u001b[0m\u001b[1;33m\u001b[0m\u001b[1;33m\u001b[0m\u001b[0m\n\u001b[0m",
      "\u001b[1;31mTypeError\u001b[0m: object of type 'int' has no len()"
     ]
    }
   ],
   "source": [
    "import pandas as pd\n",
    "import numpy as np\n",
    "nos1=list(range(len(6)))"
   ]
  },
  {
   "cell_type": "code",
   "execution_count": null,
   "metadata": {},
   "outputs": [],
   "source": [
    "#column selection, addition and deletion"
   ]
  },
  {
   "cell_type": "code",
   "execution_count": 76,
   "metadata": {},
   "outputs": [
    {
     "name": "stdout",
     "output_type": "stream",
     "text": [
      "a    1.0\n",
      "b    2.0\n",
      "c    3.0\n",
      "d    NaN\n",
      "Name: one, dtype: float64\n",
      "\r\n",
      "   one\n",
      "a  1.0\n",
      "b  2.0\n",
      "c  3.0\n",
      "d  NaN\n",
      "\r\n",
      "a    4\n",
      "b    5\n",
      "c    6\n",
      "d    7\n",
      "Name: two, dtype: int64\n",
      "\r\n",
      "   one  two  three\n",
      "a  1.0    4   10.0\n",
      "b  2.0    5   11.0\n",
      "c  3.0    6    NaN\n",
      "d  NaN    7   12.0\n",
      "\r\n",
      "   one  two  three  four\n",
      "a  1.0    4   10.0  11.0\n",
      "b  2.0    5   11.0  13.0\n",
      "c  3.0    6    NaN   NaN\n",
      "d  NaN    7   12.0   NaN\n",
      "\r\n",
      "   one  three  four\n",
      "a  1.0   10.0  11.0\n",
      "b  2.0   11.0  13.0\n",
      "c  3.0    NaN   NaN\n",
      "d  NaN   12.0   NaN\n",
      "\r\n",
      "   one  two  three\n",
      "a  1.0    4   10.0\n",
      "b  2.0    5   11.0\n",
      "c  3.0    6    NaN\n",
      "d  NaN    7   12.0\n",
      "   one  three\n",
      "a  1.0   10.0\n",
      "b  2.0   11.0\n",
      "c  3.0    NaN\n",
      "d  NaN   12.0\n",
      "\r\n",
      "   two  three\n",
      "a    4   10.0\n",
      "b    5   11.0\n",
      "c    6    NaN\n",
      "d    7   12.0\n",
      "\r\n",
      "   three\n",
      "a   10.0\n",
      "b   11.0\n",
      "c    NaN\n",
      "d   12.0\n"
     ]
    }
   ],
   "source": [
    "data={'one':pd.Series([1,2,3],index=['a','b','c'],dtype=float),\n",
    "     'two':pd.Series([4,5,6,7],index=['a','b','c','d'])}\n",
    "df=pd.DataFrame(data)\n",
    "print(df['one'])#single column selection,returning a Series\n",
    "print('\\r')\n",
    "print(df[['one']])#single column selection,returning a Dataframe\n",
    "print('\\r')\n",
    "print(df['two'])\n",
    "print('\\r')\n",
    "data1={'one':pd.Series([1,2,3],index=['a','b','c'],dtype=float),\n",
    "     'two':pd.Series([4,5,6,7],index=['a','b','c','d'])}\n",
    "df=pd.DataFrame(data)\n",
    "df['three']=pd.Series([10,11,12],index=['a','b','d'])#adding a new element in an existing dataframe\n",
    "print(df)\n",
    "print('\\r')\n",
    "df['four']=df['one']+df['three']#adding new column using existing column in dataframe\n",
    "print(df)\n",
    "print('\\r')\n",
    "print(df[['one','three','four']])#multiple column selection\n",
    "print('\\r')\n",
    "data={'one':pd.Series([1,2,3],index=['a','b','c'],dtype=float),\n",
    "     'two':pd.Series([4,5,6,7],index=['a','b','c','d']),\n",
    "     'three':pd.Series([10,11,12],index=['a','b','d'])}\n",
    "df=pd.DataFrame(data)\n",
    "print(df)\n",
    "print(df[['one','three']])\n",
    "print('\\r')\n",
    "del df['one']#deleting using del method\n",
    "print(df)\n",
    "print('\\r')\n",
    "df.pop('two')#deleting using pop functon\n",
    "print(df)"
   ]
  },
  {
   "cell_type": "code",
   "execution_count": 70,
   "metadata": {},
   "outputs": [],
   "source": [
    "\n",
    "#Rows selection, addition and deletion"
   ]
  },
  {
   "cell_type": "code",
   "execution_count": 33,
   "metadata": {},
   "outputs": [
    {
     "name": "stdout",
     "output_type": "stream",
     "text": [
      "   one  two\n",
      "a  1.0    4\n",
      "b  2.0    5\n",
      "c  3.0    6\n",
      "d  NaN    7\n",
      "\r\n",
      "one    2.0\n",
      "two    5.0\n",
      "Name: b, dtype: float64\n",
      "\r\n",
      "one    3.0\n",
      "two    6.0\n",
      "Name: c, dtype: float64\n",
      "\r\n",
      "      a  b\n",
      "row0  1  2\n",
      "row1  3  4\n",
      "0     5  6\n",
      "1     7  8\n",
      "\r\n",
      "      a  b\n",
      "row0  1  2\n",
      "row1  3  4\n",
      "0     5  6\n",
      "\r\n",
      "      a  b\n",
      "row0  1  2\n",
      "0     5  6\n"
     ]
    }
   ],
   "source": [
    "#loc[] and iloc are used whenever there is row selection \n",
    "#loc[]/iloc[] method results to a Series with labels as column names of dataframe\n",
    "data1={'one':pd.Series([1,2,3],index=['a','b','c'],dtype=float),\n",
    "     'two':pd.Series([4,5,6,7],index=['a','b','c','d'])}\n",
    "df=pd.DataFrame(data1)\n",
    "print(df)\n",
    "print('\\r')\n",
    "print(df.loc['b'])#selection of row 'b' by its name\n",
    "print('\\r')\n",
    "print(df.iloc[2])#selection of row 'b' by its integer location\n",
    "print('\\r')\n",
    "df['three']=pd.Series([5,3,2,1],index=['a','b','c','d'])\n",
    "df  #adding a column\n",
    "df=pd.DataFrame([[1,2],[3,4]],columns=['a','b'],index=['row0','row1'])\n",
    "df1=pd.DataFrame([[5,6],[7,8]],columns=['a','b'])\n",
    "df=df.append(df1)#adding a row\n",
    "print(df)\n",
    "print('\\r')\n",
    "df=df.drop(1)#deletion/dropping of a row using its row label\n",
    "print(df)\n",
    "print('\\r')\n",
    "df=df.drop('row1')\n",
    "#df=df.loc['row0'].rename('key')\n",
    "print(df)"
   ]
  },
  {
   "cell_type": "code",
   "execution_count": 41,
   "metadata": {},
   "outputs": [
    {
     "name": "stdout",
     "output_type": "stream",
     "text": [
      "   one  two\n",
      "b  2.0    5\n",
      "c  3.0    6\n",
      "\r\n",
      "   one  two\n",
      "b  2.0    5\n",
      "d  NaN    7\n",
      "\r\n",
      "   one  two\n",
      "b  2.0    5\n",
      "c  3.0    6\n",
      "d  NaN    7\n",
      "\r\n",
      "   one  two\n",
      "b  2.0    5\n",
      "d  NaN    7\n",
      "\r\n",
      "   one  two\n",
      "b  2.0    5\n",
      "c  3.0    6\n"
     ]
    }
   ],
   "source": [
    "#slicing(selection of multiple rows) of rows using : operator\n",
    "\"\"\"slicing is also called subset selection\"\"\"\n",
    "import pandas as pd\n",
    "data1={'one':pd.Series([1,2,3],index=['a','b','c'],dtype=float),\n",
    "     'two':pd.Series([4,5,6,7],index=['a','b','c','d'])}\n",
    "df=pd.DataFrame(data1)\n",
    "print(df[1:3])#slicing rows without use of loc\n",
    "print('\\r')\n",
    "print(df.loc[['b','d']])\n",
    "print('\\r')\n",
    "print(df.loc['b':'d'])\n",
    "print('\\r')\n",
    "print(df.iloc[[1,3]])\n",
    "print('\\r')\n",
    "print(df.iloc[1:3])"
   ]
  },
  {
   "cell_type": "code",
   "execution_count": 79,
   "metadata": {},
   "outputs": [
    {
     "name": "stdout",
     "output_type": "stream",
     "text": [
      "   one  two\n",
      "a  1.0    4\n",
      "b  2.0    5\n",
      "c  3.0    6\n",
      "d  NaN    7\n",
      "e  NaN    8\n",
      "f  NaN    3\n",
      "g  NaN    0\n",
      "h  NaN    5\n",
      "\r\n",
      "   one  two  three\n",
      "a  1.0    4   12.0\n",
      "b  2.0    5   16.0\n",
      "c  3.0    6    NaN\n",
      "d  NaN    7   15.0\n",
      "e  NaN    8   10.0\n",
      "f  NaN    3    8.0\n",
      "g  NaN    0   27.0\n",
      "h  NaN    5   17.0\n",
      "\r\n",
      "   one  two  three\n",
      "a  1.0    4   12.0\n",
      "b  2.0    5   16.0\n",
      "\r\n",
      "a    4\n",
      "b    5\n",
      "Name: two, dtype: int64\n",
      "\r\n",
      "7\n",
      "\r\n",
      "   one  two  three\n",
      "a  1.0    4   12.0\n",
      "c  3.0    6    NaN\n",
      "e  NaN    8   10.0\n",
      "g  NaN    0   27.0\n",
      "\r\n",
      "   one  two  three\n",
      "e  NaN    8   10.0\n",
      "f  NaN    3    8.0\n",
      "g  NaN    0   27.0\n",
      "h  NaN    5   17.0\n",
      "\r\n",
      "   one  two  three\n",
      "e  NaN    8   10.0\n",
      "g  NaN    0   27.0\n"
     ]
    }
   ],
   "source": [
    "#other slicing\n",
    "import pandas as pd\n",
    "data1={'one':pd.Series([1,2,3],index=['a','b','c'],dtype=float),\n",
    "     'two':pd.Series([4,5,6,7,8,3,0,5],index=['a','b','c','d','e','f','g','h'])}\n",
    "df=pd.DataFrame(data1)\n",
    "print(df)\n",
    "df['three']=pd.Series([12,16,15,10,8,27,17], index=['a','b','d','e','f','g','h'])\n",
    "print('\\r')\n",
    "print(df)\n",
    "print('\\r')\n",
    "print(df.loc[:'b'])\n",
    "print('\\r')\n",
    "print(df.loc[:'b','two'])\n",
    "print('\\r')\n",
    "print(df.loc['d','two'])\n",
    "print('\\r')\n",
    "print(df.loc['a':'g':2])\n",
    "print('\\r')\n",
    "print(df.loc['e':])\n",
    "print('\\r')\n",
    "print(df.loc['e':'h':2])#slicing from one row to another by stepping by 2\n",
    "\n"
   ]
  },
  {
   "cell_type": "code",
   "execution_count": 91,
   "metadata": {},
   "outputs": [
    {
     "name": "stdout",
     "output_type": "stream",
     "text": [
      "   two  three\n",
      "a    4   12.0\n",
      "d    7   15.0\n",
      "g    0   27.0\n",
      "\r\n",
      "a    12.0\n",
      "d    15.0\n",
      "g    27.0\n",
      "Name: three, dtype: float64\n",
      "\r\n",
      "   one  three\n",
      "a  1.0   12.0\n",
      "b  2.0   16.0\n",
      "c  3.0    NaN\n",
      "d  NaN   15.0\n",
      "e  NaN   10.0\n",
      "f  NaN    8.0\n",
      "g  NaN   27.0\n",
      "\r\n",
      "   two  three\n",
      "a    4   12.0\n",
      "b    5   16.0\n",
      "c    6    NaN\n",
      "d    7   15.0\n",
      "e    8   10.0\n",
      "\r\n",
      "   one  three\n",
      "a  1.0   12.0\n",
      "b  2.0   16.0\n",
      "c  3.0    NaN\n",
      "d  NaN   15.0\n",
      "e  NaN   10.0\n",
      "f  NaN    8.0\n",
      "g  NaN   27.0\n",
      "h  NaN   17.0\n",
      "\r\n",
      "   one  two  three\n",
      "a  1.0    4   12.0\n",
      "d  NaN    7   15.0\n",
      "g  NaN    0   27.0\n",
      "\r\n",
      "   one  two  three\n",
      "a  1.0    4   12.0\n",
      "d  NaN    7   15.0\n",
      "g  NaN    0   27.0\n",
      "\r\n",
      "   one  three\n",
      "a  1.0   12.0\n",
      "d  NaN   15.0\n",
      "e  NaN   10.0\n",
      "g  NaN   27.0\n",
      "h  NaN   17.0\n"
     ]
    }
   ],
   "source": [
    "print(df.loc[['a','d','g'],['two','three']])\n",
    "print('\\r')\n",
    "print(df.loc[['a','d','g'],'three'])\n",
    "print('\\r')\n",
    "print(df.loc['a':'g',['one','three']])\n",
    "print('\\r')\n",
    "print(df.loc[:'e','two':])#selecting a slice of rows and a slice of columns\n",
    "print('\\r')\n",
    "print(df.loc[:,['one','three']])\n",
    "print('\\r')\n",
    "print(df.loc[['a','d','g'],:])#selecting some rows and all columns. end colon can be skiped to give same results\n",
    "print('\\r')\n",
    "print(df.loc[['a','d','g']])\n",
    "rows=['a','d','e','g','h']#assigning rows selection to a variable\n",
    "cols=['one','three']#assigning columns selection to a variable\n",
    "print('\\r')\n",
    "print(df.loc[rows,cols])\n"
   ]
  },
  {
   "cell_type": "code",
   "execution_count": 112,
   "metadata": {},
   "outputs": [
    {
     "name": "stdout",
     "output_type": "stream",
     "text": [
      "one       NaN\n",
      "two       7.0\n",
      "three    15.0\n",
      "Name: d, dtype: float64\n",
      "\r\n",
      "15.0\n",
      "\r\n",
      "   one  two  three\n",
      "c  3.0    6    NaN\n",
      "d  NaN    7   15.0\n",
      "e  NaN    8   10.0\n",
      "f  NaN    3    8.0\n",
      "\r\n",
      "   one  two  three\n",
      "a  1.0    4   12.0\n",
      "b  2.0    5   16.0\n",
      "c  3.0    6    NaN\n",
      "d  NaN    7   15.0\n",
      "\r\n",
      "   one  two  three\n",
      "d  NaN    7   15.0\n",
      "e  NaN    8   10.0\n",
      "f  NaN    3    8.0\n",
      "g  NaN    0   27.0\n",
      "\r\n",
      "   one  two  three\n",
      "e  NaN    8   10.0\n",
      "f  NaN    3    8.0\n",
      "g  NaN    0   27.0\n",
      "h  NaN    5   17.0\n",
      "\r\n",
      "   one  two  three\n",
      "e  NaN    8   10.0\n",
      "g  NaN    0   27.0\n",
      "\r\n",
      "   two  three\n",
      "c    6    NaN\n",
      "d    7   15.0\n",
      "e    8   10.0\n",
      "f    3    8.0\n",
      "\r\n",
      "   one  two\n",
      "c  3.0    6\n",
      "d  NaN    7\n",
      "e  NaN    8\n",
      "f  NaN    3\n",
      "g  NaN    0\n",
      "\r\n",
      "a    12.0\n",
      "b    16.0\n",
      "c     NaN\n",
      "d    15.0\n",
      "e    10.0\n",
      "f     8.0\n",
      "g    27.0\n",
      "h    17.0\n",
      "Name: three, dtype: float64\n",
      "\r\n",
      "a    12.0\n",
      "b    16.0\n",
      "c     NaN\n",
      "d    15.0\n",
      "e    10.0\n",
      "f     8.0\n",
      "g    27.0\n",
      "h    17.0\n",
      "Name: three, dtype: float64\n"
     ]
    }
   ],
   "source": [
    "#iloc indexer\n",
    "print(df.iloc[3])#selection of a single row all column as a Series\n",
    "print('\\r')\n",
    "print(df.iloc[3,2])#selection of a single row,single column\n",
    "print('\\r')\n",
    "print(df.iloc[[2,3,4,5]])\n",
    "print('\\r')\n",
    "print(df.iloc[:4])\n",
    "print('\\r')\n",
    "print(df.iloc[3:7])\n",
    "print('\\r')\n",
    "print(df.iloc[4:])\n",
    "print('\\r')\n",
    "print(df.iloc[4::2])#selecting 4th position to the end by stepping 2\n",
    "print('\\r')\n",
    "print(df.iloc[[2,3,4,5],[1,2]])\n",
    "print('\\r')\n",
    "print(df.iloc[2:7,0:2])\n",
    "print('\\r')\n",
    "print(df.iloc[:,2])#selection of single column, all rows\n",
    "print('\\r')\n",
    "print(df['three'])#selection of single column, all rows\n"
   ]
  },
  {
   "cell_type": "code",
   "execution_count": null,
   "metadata": {},
   "outputs": [],
   "source": [
    "#selecting subsets of Series"
   ]
  }
 ],
 "metadata": {
  "kernelspec": {
   "display_name": "Python 3",
   "language": "python",
   "name": "python3"
  },
  "language_info": {
   "codemirror_mode": {
    "name": "ipython",
    "version": 3
   },
   "file_extension": ".py",
   "mimetype": "text/x-python",
   "name": "python",
   "nbconvert_exporter": "python",
   "pygments_lexer": "ipython3",
   "version": "3.7.3"
  }
 },
 "nbformat": 4,
 "nbformat_minor": 2
}
